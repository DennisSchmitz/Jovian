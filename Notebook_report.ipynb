{
 "cells": [
  {
   "cell_type": "markdown",
   "metadata": {},
   "source": [
    "___\n",
    "# Jovian analysis report\n",
    "___"
   ]
  },
  {
   "cell_type": "markdown",
   "metadata": {},
   "source": [
    "<b>If you want to show or hide the programming code, press the button with the eye in it on the toolbar above.</b>  \n",
    "<br>\n",
    "<i><b>In order to load in the data, click the \"Cell\" button above, and then press \"Run all\".</b></i>  \n",
    "<br>\n",
    "You can view the Jovian rulegraph by clicking [here](files/GitHub_images/rulegraph_Jovian.png)."
   ]
  },
  {
   "cell_type": "code",
   "execution_count": null,
   "metadata": {
    "deletable": false,
    "deleteable": false,
    "editable": false
   },
   "outputs": [],
   "source": [
    "######################################\n",
    "# Required packages for this script  #\n",
    "######################################\n",
    "import pandas as pd\n",
    "import qgrid\n",
    "import glob\n",
    "import os\n",
    "\n",
    "grid_options = {\n",
    "    'fullWidthRows': True,\n",
    "    'syncColumnCellResize': True,\n",
    "    'forceFitColumns': False,\n",
    "    'defaultColumnWidth': 100,\n",
    "    'rowHeight': 23,\n",
    "    'enableColumnReorder': True,\n",
    "    'enableTextSelectionOnCells': True,\n",
    "    'editable': True,\n",
    "    'autoEdit': False,\n",
    "    'explicitInitialization': True,\n",
    "    'maxVisibleRows': 20,\n",
    "    'minVisibleRows': 8,\n",
    "    'sortable': True,\n",
    "    'filterable': True,\n",
    "    'highlightSelectedCell': True,\n",
    "    'highlightSelectedRow': True\n",
    "}"
   ]
  },
  {
   "cell_type": "markdown",
   "metadata": {},
   "source": [
    "___\n",
    "## Quality control metrics report (MultiQC):\n",
    "[Open MultiQC graph in seperate tab by clicking here](results/multiqc.html)  \n",
    "___"
   ]
  },
  {
   "cell_type": "code",
   "execution_count": null,
   "metadata": {
    "deletable": false,
    "deleteable": false,
    "editable": false,
    "scrolled": false
   },
   "outputs": [],
   "source": [
    "%%HTML\n",
    "<div style=\"text-align: center\">\n",
    "    <iframe src=\"results/multiqc.html\" width=1400 height=980></iframe>\n",
    "</div>"
   ]
  },
  {
   "cell_type": "markdown",
   "metadata": {},
   "source": [
    "___\n",
    "## Metagenomics:\n",
    "___"
   ]
  },
  {
   "cell_type": "markdown",
   "metadata": {},
   "source": [
    "\n",
    "### Interactive metagenomics overview (Krona):\n",
    "[Open Krona graph in seperate tab by clicking here](results/krona.html)  "
   ]
  },
  {
   "cell_type": "code",
   "execution_count": null,
   "metadata": {
    "deletable": false,
    "deleteable": false,
    "editable": false,
    "scrolled": false
   },
   "outputs": [],
   "source": [
    "%%HTML\n",
    "<div style=\"text-align: center\">\n",
    "    <iframe src=\"results/krona.html\" width=1400 height=980></iframe>\n",
    "</div>"
   ]
  },
  {
   "cell_type": "markdown",
   "metadata": {},
   "source": [
    "### Summary heatmaps:"
   ]
  },
  {
   "cell_type": "markdown",
   "metadata": {},
   "source": [
    "Note (2019-03-28): There is a bug between Jupyter notebook and Tornado (a dependency of Jupyter). This causes the links below to give a 403 error in the Chrome browser, it does work in Firefox. This is a known bug and will be updated shortly by the developers of Tornado. See [here](https://github.com/jupyter/notebook/issues/4498), [here](https://github.com/jupyterlab/jupyterlab/issues/6106), [here](https://github.com/jupyterlab/jupyterlab/issues/6131) and [here](https://github.com/jupyter/terminado/issues/62)."
   ]
  },
  {
   "cell_type": "code",
   "execution_count": null,
   "metadata": {
    "deletable": false,
    "editable": false
   },
   "outputs": [],
   "source": [
    "%%HTML\n",
    "<script>\n",
    "function goBack() {\n",
    "    window.history.back()\n",
    "}\n",
    "</script>\n",
    "\n",
    "<button onclick=\"goBack()\">Click this button to go back</button>\n",
    "\n",
    "\n",
    "<div style=\"text-align: center\">\n",
    "    <iframe src=\"results/Heatmap_index.html\" width=1400 height=980></iframe>\n",
    "</div>"
   ]
  },
  {
   "cell_type": "markdown",
   "metadata": {},
   "source": [
    "### Read-based composition of analysed samples\n",
    "\n",
    "Quantifies all annotations made by Jovian by counting reads that were:  \n",
    "Discarded due to low quality, removed due to being alignable to the human genome, classified by Megablast, and finally reads that could not be assembled into contigs longer than the user specified length (default is 500 nt) and were therefore not included in the classification steps (\"remaining\")."
   ]
  },
  {
   "cell_type": "code",
   "execution_count": null,
   "metadata": {
    "deletable": false,
    "editable": false,
    "scrolled": false
   },
   "outputs": [],
   "source": [
    "%%HTML\n",
    "<div style=\"text-align: center\">\n",
    "    <iframe src=\"results/Sample_composition_graph.html\" width=1400 height=980></iframe>\n",
    "</div>"
   ]
  },
  {
   "cell_type": "markdown",
   "metadata": {},
   "source": [
    "### Classified scaffolds:"
   ]
  },
  {
   "cell_type": "code",
   "execution_count": null,
   "metadata": {
    "deletable": false,
    "editable": false
   },
   "outputs": [],
   "source": [
    "if os.path.exists(\"results/all_taxClassified.tsv\"):\n",
    "    ClassifiedScaffolds_df = pd.read_csv(\"results/all_taxClassified.tsv\" , sep = \"\\t\")\n",
    "else:\n",
    "    print(\"The file \\\"results/all_taxClassified.tsv\\\" does not exist. Either no scaffolds were classified, or something went wrong, please doublecheck the logfiles below:\")\n",
    "    print(\"\\t\\\"logs/Merge_all_metrics_into_single_tsv_[sample_name].log\\\"\")\n",
    "    print(\"\\t\\\"logs/Concat_files.log\\\"\")\n",
    "    ClassifiedScaffolds_df = pd.DataFrame({'Error' : [\"Please\", \"see\", \"error\", \"message\", \"above\"]})\n",
    "\n",
    "qgrid.show_grid(ClassifiedScaffolds_df, show_toolbar=False, grid_options=grid_options)"
   ]
  },
  {
   "cell_type": "markdown",
   "metadata": {},
   "source": [
    "### Dark matter (i.e. unclassified scaffolds):"
   ]
  },
  {
   "cell_type": "code",
   "execution_count": null,
   "metadata": {
    "deletable": false,
    "editable": false,
    "scrolled": true
   },
   "outputs": [],
   "source": [
    "if os.path.exists(\"results/all_taxUnclassified.tsv\"):\n",
    "    UnclassifiedScaffolds_df = pd.read_csv(\"results/all_taxUnclassified.tsv\" , sep = \"\\t\")\n",
    "else:\n",
    "    print(\"The file \\\"results/all_taxUnclassified.tsv\\\" does not exist. Either no scaffolds were unclassified, or something went wrong, please doublecheck the logfiles below:\")\n",
    "    print(\"\\t\\\"logs/Merge_all_metrics_into_single_tsv_[sample_name].log\\\"\")\n",
    "    print(\"\\t\\\"logs/Concat_files.log\\\"\")\n",
    "    UnclassifiedScaffolds_df = pd.DataFrame({'Error' : [\"Please\", \"see\", \"error\", \"message\", \"above\"]})\n",
    "\n",
    "qgrid.show_grid(UnclassifiedScaffolds_df, show_toolbar=False, grid_options=grid_options)"
   ]
  },
  {
   "cell_type": "markdown",
   "metadata": {},
   "source": [
    "___\n",
    "## Predicted virus hosts:\n",
    "___"
   ]
  },
  {
   "cell_type": "code",
   "execution_count": null,
   "metadata": {
    "deletable": false,
    "editable": false
   },
   "outputs": [],
   "source": [
    "if os.path.exists(\"results/all_virusHost.tsv\"):\n",
    "    virusHost_df = pd.read_csv(\"results/all_virusHost.tsv\" , sep = \"\\t\")\n",
    "else:\n",
    "    print(\"The file \\\"results/all_virusHost.tsv\\\" does not exist. Either no viral scaffolds had host information, or something went wrong, please doublecheck the logfiles below:\")\n",
    "    print(\"\\t\\\"logs/Merge_all_metrics_into_single_tsv_[sample_name].log\\\"\")\n",
    "    print(\"\\t\\\"logs/Concat_files.log\\\"\")\n",
    "    virusHost_df = pd.DataFrame({'Error' : [\"Please\", \"see\", \"error\", \"message\", \"above\"]})\n",
    "\n",
    "qgrid.show_grid(virusHost_df, show_toolbar=False, grid_options=grid_options)"
   ]
  },
  {
   "cell_type": "markdown",
   "metadata": {},
   "source": [
    "___\n",
    "## Virus typing tool output\n",
    "___"
   ]
  },
  {
   "cell_type": "markdown",
   "metadata": {},
   "source": [
    "\n",
    "### Norovirus typing tool output:  \n",
    "[Link to the norovirus typing tool](https://www.rivm.nl/mpf/typingtool/norovirus/)  "
   ]
  },
  {
   "cell_type": "code",
   "execution_count": null,
   "metadata": {
    "deletable": false,
    "editable": false
   },
   "outputs": [],
   "source": [
    "if os.path.exists(\"results/all_NoV-TT.tsv\") and os.path.getsize(\"results/all_NoV-TT.tsv\") > 0:\n",
    "    NoV_TT_df = pd.read_csv(\"results/all_NoV-TT.tsv\" , sep = \",\")\n",
    "elif os.path.exists(\"results/all_NoV-TT.tsv\") and os.path.getsize(\"results/all_NoV-TT.tsv\") == 0:\n",
    "    print(\"No viral scaffolds with species equal to \\\"Norwalk virus\\\" were found in this dataset.\")\n",
    "    NoV_TT_df = pd.DataFrame({'NA' : [\"No\", \"Norwalk virus\", \"species\", \"scaffolds\", \"found\"]})\n",
    "else:\n",
    "    print(\"The file \\\"results/all_NoV-TT.tsv\\\" does not exist. Something went wrong. Please see the logfiles below:\")\n",
    "    print(\"\\t\\\"logs/Viral_typing_[sample_name].log\\\"\")\n",
    "    print(\"\\t\\\"logs/Concat_TT_files.log\\\"\")\n",
    "    NoV_TT_df = pd.DataFrame({'Error' : [\"Please\", \"see\", \"error\", \"message\", \"above\"]})\n",
    "\n",
    "qgrid.show_grid(NoV_TT_df, show_toolbar=False, grid_options=grid_options)"
   ]
  },
  {
   "cell_type": "markdown",
   "metadata": {},
   "source": [
    "### Enterovirus typing tool output:  \n",
    "[Link to the enterovirus typing tool](https://www.rivm.nl/mpf/typingtool/enterovirus/)  "
   ]
  },
  {
   "cell_type": "code",
   "execution_count": null,
   "metadata": {
    "deletable": false,
    "editable": false
   },
   "outputs": [],
   "source": [
    "if os.path.exists(\"results/all_EV-TT.tsv\") and os.path.getsize(\"results/all_EV-TT.tsv\") > 0:\n",
    "    EV_TT_df = pd.read_csv(\"results/all_EV-TT.tsv\" , sep = \",\")\n",
    "elif os.path.exists(\"results/all_EV-TT.tsv\") and os.path.getsize(\"results/all_EV-TT.tsv\") == 0:\n",
    "    print(\"No viral scaffolds with family equal to \\\"Picornaviridae\\\" were found in this dataset.\")\n",
    "    EV_TT_df = pd.DataFrame({'NA' : [\"No\", \"Picornaviridae\", \"family\", \"scaffolds\", \"found\"]})\n",
    "else:\n",
    "    print(\"The file \\\"results/all_EV-TT.tsv\\\" does not exist. Something went wrong. Please see the logfiles below:\")\n",
    "    print(\"\\t\\\"logs/Viral_typing_[sample_name].log\\\"\")\n",
    "    print(\"\\t\\\"logs/Concat_TT_files.log\\\"\")\n",
    "    EV_TT_df = pd.DataFrame({'Error' : [\"Please\", \"see\", \"error\", \"message\", \"above\"]})\n",
    "\n",
    "qgrid.show_grid(EV_TT_df, show_toolbar=False, grid_options=grid_options)"
   ]
  },
  {
   "cell_type": "markdown",
   "metadata": {},
   "source": [
    "___\n",
    "## Scaffold viewer:\n",
    "**Containing: SNPs and minority variants (quasispecies), predicted ORFs, depth of coverage graph, GC contents graph**\n",
    "___"
   ]
  },
  {
   "cell_type": "markdown",
   "metadata": {},
   "source": [
    "N.B. Depending on the depth of coverage of the contig this can be <b>(very) slow, or downright crash your browser</b>. This is a <b>client-sided</b> problem, meaning, your computer isn't powerful enough. This cannot be fixed by us developers.  "
   ]
  },
  {
   "cell_type": "code",
   "execution_count": null,
   "metadata": {
    "deletable": false,
    "editable": false
   },
   "outputs": [],
   "source": [
    "!bash bin/start_nginx.sh start"
   ]
  },
  {
   "cell_type": "code",
   "execution_count": null,
   "metadata": {
    "deletable": false,
    "editable": false
   },
   "outputs": [],
   "source": [
    "%%HTML\n",
    "<script>\n",
    "function goBack() {\n",
    "    window.history.back()\n",
    "}\n",
    "</script>\n",
    "\n",
    "<button onclick=\"goBack()\">Click this button to go back</button>\n",
    "\n",
    "<div style=\"text-align: center\">\n",
    "    <iframe src=\"results/IGVjs_index.html\" width=1400 height=980></iframe>\n",
    "</div>"
   ]
  },
  {
   "cell_type": "markdown",
   "metadata": {},
   "source": [
    "___\n",
    "## Interactive minority variants table\n",
    "___"
   ]
  },
  {
   "cell_type": "code",
   "execution_count": null,
   "metadata": {
    "deletable": false,
    "deleteable": false,
    "editable": false
   },
   "outputs": [],
   "source": [
    "if os.path.exists(\"results/all_filtered_SNPs.tsv\"):\n",
    "    filtered_VCF_df = pd.read_csv(\"results/all_filtered_SNPs.tsv\" , sep = \"\\t\")\n",
    "else:\n",
    "    print(\"The file \\\"results/all_filtered_SNPs.tsv\\\" does not exist. Either no SNP's were classified, maybe because you've set the minimum allele-frequency too high? Or something went wrong, please doublecheck the logfiles below:\")\n",
    "    print(\"\\t\\\"logs/SNP_calling_[sample_name].log\\\"\")\n",
    "    print(\"\\t\\\"logs/Concat_filtered_SNPs.log\\\"\")\n",
    "    filtered_VCF_df = pd.DataFrame({'Error' : [\"Please\", \"see\", \"error\", \"message\", \"above\"]})\n",
    "\n",
    "qgrid.show_grid(filtered_VCF_df, show_toolbar=False, grid_options=grid_options)"
   ]
  },
  {
   "cell_type": "markdown",
   "metadata": {},
   "source": [
    "___\n",
    "# Logging and audit-trail: \n",
    "___"
   ]
  },
  {
   "cell_type": "markdown",
   "metadata": {},
   "source": [
    "## Snakemake summary statistics\n",
    "[Open Snakemake summary statistics in seperate tab by clicking here](snakemake_report.html#stats)"
   ]
  },
  {
   "cell_type": "code",
   "execution_count": null,
   "metadata": {
    "deletable": false,
    "editable": false
   },
   "outputs": [],
   "source": [
    "%%HTML\n",
    "<div style=\"text-align: center\">\n",
    "    <iframe src=\"results/snakemake_report.html\" width=1400 height=980></iframe>\n",
    "</div>"
   ]
  },
  {
   "cell_type": "markdown",
   "metadata": {},
   "source": [
    "### Software list in Jovian_master environment:"
   ]
  },
  {
   "cell_type": "code",
   "execution_count": null,
   "metadata": {
    "deletable": false,
    "deleteable": false,
    "editable": false
   },
   "outputs": [],
   "source": [
    "%%bash\n",
    "cat envs/Jovian_master_environment.yaml"
   ]
  },
  {
   "cell_type": "markdown",
   "metadata": {},
   "source": [
    "<br>  \n",
    "### Database versions:"
   ]
  },
  {
   "cell_type": "code",
   "execution_count": null,
   "metadata": {
    "deletable": false,
    "deleteable": false,
    "editable": false
   },
   "outputs": [],
   "source": [
    "%%bash\n",
    "echo -e \"==> NCBI NT Database: <==\\n$(ls -lah /mnt/db/NT_Database/)\"\n",
    "echo -e \"\\n==> NCBI NR Database: <==\\n$(ls -lah /mnt/db/NR_Database/)\"\n",
    "echo -e \"\\n==> NCBI Taxdb Database: <==\\n$(ls -lah /mnt/db/taxdb/)\"\n",
    "echo -e \"\\n==> NCBI new_taxdump Database: <==\\n$(ls -lah /mnt/db/new_taxdump/)\"\n",
    "echo -e \"\\n==> Krona Taxonomy Database: <==\\n$(ls -lah /mnt/db/taxonomy_krona/)\"\n",
    "echo -e \"\\n==> Homo Sapiens NCBI GRch38 NO DECOY genome: <==$(ls -lah /mnt/db/Homo_sapiens_NO_DECOY/NCBI/GRCh38/Sequence/Bowtie2Index/)\"\n",
    "echo -e \"\\n==> Virus-Host Interaction Database: <==\\n$(ls -lah /mnt/db/Virus-Host_interaction_DB/)\""
   ]
  },
  {
   "cell_type": "markdown",
   "metadata": {},
   "source": [
    "<br>  \n",
    "### Pipeline code with unique methodological \"fingerprint\":"
   ]
  },
  {
   "cell_type": "code",
   "execution_count": null,
   "metadata": {
    "deletable": false,
    "deleteable": false,
    "editable": false
   },
   "outputs": [],
   "source": [
    "%%bash\n",
    "echo -e \"This is the link to the code used for this analysis:\\thttps://github.com/DennisSchmitz/Jovian/tree/$(git log -n 1 --pretty=format:\"%H\")\" \n",
    "echo -e \"This code with unique fingerprint $(git log -n1 --pretty=format:\"%H\") was committed by $(git log -n1 --pretty=format:\"%an <%ae>\") at $(git log -n1 --pretty=format:\"%ad\")\""
   ]
  },
  {
   "cell_type": "markdown",
   "metadata": {},
   "source": [
    "<br>  \n",
    "### Snakemake config file (containing pipeline parameters):"
   ]
  },
  {
   "cell_type": "code",
   "execution_count": null,
   "metadata": {
    "deletable": false,
    "deleteable": false,
    "editable": false
   },
   "outputs": [],
   "source": [
    "%%bash\n",
    "echo -e \"________________________________________________________________________________\\n\\tContents of the config.yaml (contains the Snakemake CLI parameters):\\n________________________________________________________________________________\"\n",
    "cat profile/config.yaml\n",
    "echo -e \"________________________________________________________________________________\\n\\tContents of the pipeline_parameters.yaml (contains the parameters for the pipeline software):\\n________________________________________________________________________________\"\n",
    "cat profile/pipeline_parameters.yaml"
   ]
  },
  {
   "cell_type": "markdown",
   "metadata": {},
   "source": [
    "___\n",
    "# Acknowledgements\n",
    "___"
   ]
  },
  {
   "cell_type": "markdown",
   "metadata": {},
   "source": [
    "|Name |Publication|Website|\n",
    "|:---|:---|:---|\n",
    "|BBtools|NA|https://jgi.doe.gov/data-and-tools/bbtools/|\n",
    "|BEDtools|Quinlan, A.R. and I.M.J.B. Hall, BEDTools: a flexible suite of utilities for comparing genomic features. 2010. 26(6): p. 841-842.|https://bedtools.readthedocs.io/en/latest/|\n",
    "|BLAST|Altschul, S.F., et al., Gapped BLAST and PSI-BLAST: a new generation of protein database search programs. 1997. 25(17): p. 3389-3402.|https://www.ncbi.nlm.nih.gov/books/NBK279690/|\n",
    "|BWA|Li, H. (2013). Aligning sequence reads, clone sequences and assembly contigs with BWA-MEM. arXiv preprint arXiv:1303.3997.|https://github.com/lh3/bwa|\n",
    "|BioConda|Grüning, B., et al., Bioconda: sustainable and comprehensive software distribution for the life sciences. 2018. 15(7): p. 475.|https://bioconda.github.io/|\n",
    "|Biopython|Cock, P. J., Antao, T., Chang, J. T., Chapman, B. A., Cox, C. J., Dalke, A., ... & De Hoon, M. J. (2009). Biopython: freely available Python tools for computational molecular biology and bioinformatics. Bioinformatics, 25(11), 1422-1423.|https://biopython.org/|\n",
    "|Bokeh|Bokeh Development Team (2018). Bokeh: Python library for interactive visualization.|https://bokeh.pydata.org/en/latest/|\n",
    "|Bowtie2|Langmead, B. and S.L.J.N.m. Salzberg, Fast gapped-read alignment with Bowtie 2. 2012. 9(4): p. 357.|http://bowtie-bio.sourceforge.net/bowtie2/index.shtml|\n",
    "|Conda|NA|https://conda.io/|\n",
    "|DRMAA|NA|http://drmaa-python.github.io/|\n",
    "|FastQC|Andrews, S., FastQC: a quality control tool for high throughput sequence data. 2010.|https://www.bioinformatics.babraham.ac.uk/projects/fastqc/|\n",
    "|gawk|NA|https://www.gnu.org/software/gawk/|\n",
    "|GNU Parallel|O. Tange (2018): GNU Parallel 2018, March 2018, https://doi.org/10.5281/zenodo.1146014.|https://www.gnu.org/software/parallel/|\n",
    "|Git|NA|https://git-scm.com/|\n",
    "|igvtools|NA|https://software.broadinstitute.org/software/igv/igvtools|\n",
    "|Jupyter Notebook|Kluyver, Thomas, et al. \"Jupyter Notebooks-a publishing format for reproducible computational workflows.\" ELPUB. 2016.|https://jupyter.org/|\n",
    "|Jupyter_contrib_nbextension|NA|https://github.com/ipython-contrib/jupyter_contrib_nbextensions|\n",
    "|Jupyterthemes|NA|https://github.com/dunovank/jupyter-themes|\n",
    "|Krona|Ondov, B.D., N.H. Bergman, and A.M. Phillippy, Interactive metagenomic visualization in a Web browser. BMC Bioinformatics, 2011. 12: p. 385.|https://github.com/marbl/Krona/wiki|\n",
    "|Lofreq|Wilm, A., et al., LoFreq: a sequence-quality aware, ultra-sensitive variant caller for uncovering cell-population heterogeneity from high-throughput sequencing datasets. 2012. 40(22): p. 11189-11201.|http://csb5.github.io/lofreq/|\n",
    "|Minimap2|Li, H., Minimap2: pairwise alignment for nucleotide sequences. Bioinformatics, 2018.|https://github.com/lh3/minimap2|\n",
    "|MultiQC|Ewels, P., et al., MultiQC: summarize analysis results for multiple tools and samples in a single report. 2016. 32(19): p. 3047-3048.|https://multiqc.info/|\n",
    "|Nb_conda|NA|https://github.com/Anaconda-Platform/nb_conda|\n",
    "|Nb_conda_kernels|NA|https://github.com/Anaconda-Platform/nb_conda_kernels|\n",
    "|Nginx|NA|https://www.nginx.com/|\n",
    "|Numpy|Walt, S. V. D., Colbert, S. C., & Varoquaux, G. (2011). The NumPy array: a structure for efficient numerical computation. Computing in Science & Engineering, 13(2), 22-30.|http://www.numpy.org/|\n",
    "|Pandas|McKinney, W. Data structures for statistical computing in python. in Proceedings of the 9th Python in Science Conference. 2010. Austin, TX.|https://pandas.pydata.org/|\n",
    "|Picard|NA|https://broadinstitute.github.io/picard/|\n",
    "|Prodigal|Hyatt, D., et al., Prodigal: prokaryotic gene recognition and translation initiation site identification. 2010. 11(1): p. 119.|https://github.com/hyattpd/Prodigal/wiki/Introduction|\n",
    "|Python|G. van Rossum, Python tutorial, Technical Report CS-R9526, Centrum voor Wiskunde en Informatica (CWI), Amsterdam, May 1995.|https://www.python.org/|\n",
    "|Qgrid|NA|https://github.com/quantopian/qgrid|\n",
    "|SAMtools|Li, H., et al., The sequence alignment/map format and SAMtools. 2009. 25(16): p. 2078-2079.|http://www.htslib.org/|\n",
    "|SPAdes|Nurk, S., et al., metaSPAdes: a new versatile metagenomic assembler. Genome Res, 2017. 27(5): p. 824-834.|http://cab.spbu.ru/software/spades/|\n",
    "|Seqtk|NA|https://github.com/lh3/seqtk|\n",
    "|Snakemake|Köster, J. and S.J.B. Rahmann, Snakemake—a scalable bioinformatics workflow engine. 2012. 28(19): p. 2520-2522.|https://snakemake.readthedocs.io/en/stable/|\n",
    "|Tabix|NA|www.htslib.org/doc/tabix.html|\n",
    "|tree|NA|http://mama.indstate.edu/users/ice/tree/|\n",
    "|Trimmomatic|Bolger, A.M., M. Lohse, and B. Usadel, Trimmomatic: a flexible trimmer for Illumina sequence data. Bioinformatics, 2014. 30(15): p. 2114-20.|www.usadellab.org/cms/?page=trimmomatic|\n",
    "|Virus-Host Database|Mihara, T., Nishimura, Y., Shimizu, Y., Nishiyama, H., Yoshikawa, G., Uehara, H., ... & Ogata, H. (2016). Linking virus genomes with host taxonomy. Viruses, 8(3), 66.|http://www.genome.jp/virushostdb/note.html|"
   ]
  },
  {
   "cell_type": "markdown",
   "metadata": {},
   "source": [
    "#### Link to Gitlab repo (only accessible from within the RIVM network):  \n",
    "https://github.com/DennisSchmitz/Jovian"
   ]
  },
  {
   "cell_type": "markdown",
   "metadata": {},
   "source": [
    "#### Authors:\n",
    "- Dennis Schmitz ([RIVM](https://www.rivm.nl/en) and [EMC](https://www6.erasmusmc.nl/viroscience/))  \n",
    "- Sam Nooij ([RIVM](https://www.rivm.nl/en) and [EMC](https://www6.erasmusmc.nl/viroscience/))  \n",
    "- Robert Verhagen ([RIVM](https://www.rivm.nl/en))  \n",
    "- Thierry Janssens ([RIVM](https://www.rivm.nl/en))  \n",
    "- Jeroen Cremer ([RIVM](https://www.rivm.nl/en))  \n",
    "- Harry Vennema ([RIVM](https://www.rivm.nl/en))  \n",
    "- Annelies Kroneman ([RIVM](https://www.rivm.nl/en))  \n",
    "- Marion Koopmans ([EMC](https://www6.erasmusmc.nl/viroscience/))  "
   ]
  },
  {
   "cell_type": "markdown",
   "metadata": {},
   "source": [
    "___"
   ]
  }
 ],
 "metadata": {
  "hide_input": true,
  "kernelspec": {
   "display_name": "Python [conda env:Jovian_master] *",
   "language": "python",
   "name": "conda-env-Jovian_master-py"
  },
  "language_info": {
   "codemirror_mode": {
    "name": "ipython",
    "version": 3
   },
   "file_extension": ".py",
   "mimetype": "text/x-python",
   "name": "python",
   "nbconvert_exporter": "python",
   "pygments_lexer": "ipython3",
   "version": "3.6.7"
  },
  "toc": {
   "base_numbering": 1,
   "nav_menu": {},
   "number_sections": false,
   "sideBar": true,
   "skip_h1_title": false,
   "title_cell": "Table of Contents",
   "title_sidebar": "Contents",
   "toc_cell": false,
   "toc_position": {
    "height": "calc(100% - 180px)",
    "left": "10px",
    "top": "150px",
    "width": "210px"
   },
   "toc_section_display": true,
   "toc_window_display": true
  },
  "varInspector": {
   "cols": {
    "lenName": 16,
    "lenType": 16,
    "lenVar": 40
   },
   "kernels_config": {
    "python": {
     "delete_cmd_postfix": "",
     "delete_cmd_prefix": "del ",
     "library": "var_list.py",
     "varRefreshCmd": "print(var_dic_list())"
    },
    "r": {
     "delete_cmd_postfix": ") ",
     "delete_cmd_prefix": "rm(",
     "library": "var_list.r",
     "varRefreshCmd": "cat(var_dic_list()) "
    }
   },
   "position": {
    "height": "413px",
    "left": "1476px",
    "right": "20px",
    "top": "120px",
    "width": "350px"
   },
   "types_to_exclude": [
    "module",
    "function",
    "builtin_function_or_method",
    "instance",
    "_Feature"
   ],
   "window_display": false
  }
 },
 "nbformat": 4,
 "nbformat_minor": 2
}

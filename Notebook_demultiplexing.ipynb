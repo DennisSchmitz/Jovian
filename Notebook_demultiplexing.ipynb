{
 "cells": [
  {
   "cell_type": "markdown",
   "metadata": {},
   "source": [
    "# Demultiplex notebook\n",
    "___"
   ]
  },
  {
   "cell_type": "markdown",
   "metadata": {
    "collapsed": true
   },
   "source": [
    "## Good to know\n",
    "The Illumina sequencing instruments generate per-cycle base call (BCL) files at the end of the sequencing run. A\n",
    "majority of analysis applications use per-read FASTQ files as input for analysis. You can use the bcl2fastq2 Conversion\n",
    "Software v2.19 to convert base call (BCL) files from a sequencing run into FASTQ files.  \n",
    "-The sample sheet have all the 384 index combinations, to check of there indexes are present from earlier runs.  \n",
    "-Start point of this  script is (cd /mnt/Virology-NGS-Data)"
   ]
  },
  {
   "cell_type": "markdown",
   "metadata": {
    "collapsed": true
   },
   "source": [
    "## Do first:\n",
    "____________________\n",
    "#### Data location\n",
    "-Transfer the data folder of the NGS run (S:\\NGSDATA\\ngs01\\Run_Data_NextSeq_OR_Miseq*) to (S:\\Virology-NGS-Data (Run_Name)  \n",
    "*The demultiplex normal already done by a Miseq run\n",
    "___________________________\n",
    "\n",
    "#### Make the sample sheet:\n",
    "-Where to find  \n",
    "((R:\\IDS\\Discipline VIR\\NGS\\NGS labjournaal\\NGS RUNs\\Algemeen) Library prep->Miseq/Nextseq; Indexen file name_sample_sheet384.cvs))  \n",
    "Or  \n",
    "((S:\\Virology-NGS-Data) Indexes file name_sample_sheet384.cvs))  \n",
    "-Change the `sample_Name` for the index combinations that are used in the run.  \n",
    "-Fill in the `investigator Name` , `Experiment name`, `Date` and `Sample_plate`   \n",
    "-Save the file (sheet_name).csv and save in the folder (run_name)  \n",
    "##### BEWARE WHEN OPENED WITHE NOTEPAD SEPARATION SIGN MUST BE , INSTEAD OF ;  USA/UK (,) vs European (;)   \n",
    "\n",
    "-Enter in the column below in the red `name_of_the_folder`, the name of folder of the new run.  \n",
    "-Enter in the column below in the red `name_of_the_sheet` , the name of data sheet of the new run.  "
   ]
  },
  {
   "cell_type": "markdown",
   "metadata": {
    "collapsed": true
   },
   "source": [
    "------------\n"
   ]
  },
  {
   "cell_type": "code",
   "execution_count": null,
   "metadata": {},
   "outputs": [],
   "source": [
    "run_name=name_of_the_folder      #Example run_name=Run01            #No space and puntctuation marks allowed only _ and-\n",
    "data_sheet=name_of_the_sheet     #Example data_sheet=sheetrun01     #No space and puntctuation marks allowed only _ and-"
   ]
  },
  {
   "cell_type": "code",
   "execution_count": null,
   "metadata": {
    "deletable": false,
    "editable": false,
    "scrolled": false
   },
   "outputs": [],
   "source": [
    "cd /mnt/Virology-NGS-Data             # Go to the correct folder\n",
    "ulimit -n 2048 \n",
    "bcl2fastq --barcode-mismatches=0 \\\n",
    "-l WARNING \\\n",
    "-r 12 -p 12 -w 12 \\\n",
    "--runfolder-dir /mnt/Virology-NGS-Data/${run_name}/ \\\n",
    "--output-dir /mnt/Virology-NGS-Data/${run_name}/Data/Intensities/BaseCalls/ \\\n",
    "--no-lane-splitting \\\n",
    "--sample-sheet /mnt/Virology-NGS-Data/${run_name}/${data_sheet}.csv                                                      \n",
    "\n",
    "# ulimit -n 2048                                                                # To allowd 2048 open files instead of the standard 1024\n",
    "# bcl2fastq                                                                     # Command for the demultiplex\n",
    "#--barcode-mismatches=0                                                         # Accepted values: 0 1 2 ;Standaard=1; How many mismathes are acceptable in the barecode\n",
    "#--runfolder-dir /mnt/Virology-NGS-Data/${run_name}/ \\                          # Tells where the data is locate\n",
    "#--output-dir /mnt/Virology-NGS-Data/${run_name}/Data/Intensities/BaseCalls/ \\  # Tells where the result must located\n",
    "#--no-lane-splitting \\                                                          # Do not split FASTQ files by lane.\n",
    "#--sample-sheet /mnt/Virology-NGS-Data/${run_name}/${data_sheet}.csv            # Tells where the sample sheet is located\n",
    "\n",
    "  #-l [ --min-log-level ] arg (=INFO)              minimum log level\n",
    "                                                  #recognized values: NONE, FATAL, ERROR, WARNING, INFO, DEBUG, TRACE\n",
    " # -r [ --loading-threads ] arg (=4)               number of threads used for loading BCL data\n",
    "  #-p [ --processing-threads ] arg                 number of threads used for processing demultiplexed data\n",
    " # -w [ --writing-threads ] arg (=4)               number of threads used for writing FASTQ data.\n",
    "                                                  #This should not be set higher than the number of samples. If set =0 then these threads will be placed in the same pool as the loading threads, and the number of shared\n",
    "                                                  #threads will be determined by --loading-threads.\n",
    "\n",
    "\n"
   ]
  },
  {
   "cell_type": "markdown",
   "metadata": {},
   "source": [
    "___\n",
    "### Move unused indexes  \n",
    "Below move the unused indexes to a new folder `index_control`.   \n",
    "You can check this folder to see of there is contamination of reads out a other NGS run."
   ]
  },
  {
   "cell_type": "code",
   "execution_count": null,
   "metadata": {
    "deletable": false,
    "editable": false
   },
   "outputs": [],
   "source": [
    "cd /mnt/Virology-NGS-Data/${run_name}/Data/Intensities/BaseCalls/           \n",
    "mkdir index_control                                                   #Making a folder for the none Samples\n",
    "mv *_N7*.gz index_control                                            #Transfer the none samples to the new folder\n",
    " "
   ]
  }
 ],
 "metadata": {
  "hide_input": false,
  "kernelspec": {
   "display_name": "Bash",
   "language": "bash",
   "name": "bash"
  },
  "language_info": {
   "codemirror_mode": "shell",
   "file_extension": ".sh",
   "mimetype": "text/x-sh",
   "name": "bash"
  },
  "toc": {
   "base_numbering": 1,
   "nav_menu": {},
   "number_sections": false,
   "sideBar": true,
   "skip_h1_title": false,
   "title_cell": "Table of Contents",
   "title_sidebar": "Contents",
   "toc_cell": false,
   "toc_position": {},
   "toc_section_display": true,
   "toc_window_display": true
  },
  "varInspector": {
   "cols": {
    "lenName": 16,
    "lenType": 16,
    "lenVar": 40
   },
   "kernels_config": {
    "python": {
     "delete_cmd_postfix": "",
     "delete_cmd_prefix": "del ",
     "library": "var_list.py",
     "varRefreshCmd": "print(var_dic_list())"
    },
    "r": {
     "delete_cmd_postfix": ") ",
     "delete_cmd_prefix": "rm(",
     "library": "var_list.r",
     "varRefreshCmd": "cat(var_dic_list()) "
    }
   },
   "types_to_exclude": [
    "module",
    "function",
    "builtin_function_or_method",
    "instance",
    "_Feature"
   ],
   "window_display": false
  }
 },
 "nbformat": 4,
 "nbformat_minor": 2
}
